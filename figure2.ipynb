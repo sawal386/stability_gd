{
 "cells": [
  {
   "cell_type": "code",
   "execution_count": 9,
   "metadata": {
    "id": "L7FWUGf-Tx4U"
   },
   "outputs": [],
   "source": [
    "import matplotlib as mpl\n",
    "import matplotlib.pyplot as plt\n",
    "import numpy as np\n",
    "import torch\n",
    "import torch.nn as nn\n",
    "import torch.nn.functional as F\n",
    "import torch.optim as optim\n",
    "import torchvision\n",
    "import torchvision.transforms as transforms\n",
    "import string\n",
    "import random\n",
    "\n",
    "from tqdm import tqdm\n",
    "\n",
    "DEVICE = torch.device(\"cuda:0\" if torch.cuda.is_available() else \"cpu\")\n",
    "mpl.rcParams['lines.linewidth'] = 2"
   ]
  },
  {
   "cell_type": "markdown",
   "metadata": {
    "id": "WOUJIKULAZBX"
   },
   "source": [
    "### Functions for generating the data"
   ]
  },
  {
   "cell_type": "code",
   "execution_count": 10,
   "metadata": {
    "id": "eRam8haPT1cl"
   },
   "outputs": [],
   "source": [
    "def generate_data(size, scheme, seed, a=5.0, b1=7.0, b2=14.0, c=0.0):\n",
    "    \"\"\"\n",
    "    Generates data that serves as input to the function.\n",
    "    Args:\n",
    "        size: (int) the total number of data points\n",
    "        scheme: (str) the nature of the generated data\n",
    "        seed: (int) the number used to initialize random number generation\n",
    "        a: (float) constant parameter\n",
    "        b1: (float) time-varying parameter\n",
    "        b2: (float) time-varying parameter\n",
    "\n",
    "    Returns:\n",
    "        (torch.tensor) values for a\n",
    "        (torch.tensor) values for b\n",
    "    \"\"\"\n",
    "\n",
    "    A = [a for i in range(size)]\n",
    "    B = [b1 for i in range(size)]\n",
    "    C = [c for i in range(size)]\n",
    "    if scheme == \"step\":\n",
    "        B = [b1 if i < size/2 else b2 for i in range(size)]\n",
    "    elif scheme == \"random\":\n",
    "        random.seed(seed)\n",
    "        B = [float(random.uniform(b1, b2)) for i in range(size)]\n",
    "    elif scheme == \"alternate\":\n",
    "        B = [b1 if i % 2 == 0 else b2 for i in range(size)]\n",
    "    elif scheme == \"shift\":\n",
    "        C = [c if i < size / 2 else 5 for i in range(size)]\n",
    "    elif scheme == \"random_shift\":\n",
    "        random.seed(seed)\n",
    "        B = [float(random.uniform(b1, b2)) for i in range(size)]\n",
    "        C = [c if i < size / 2 else 5 for i in range(size)]\n",
    "\n",
    "    return torch.tensor(np.array(A)), torch.tensor(np.array(B)), torch.tensor(np.array(C))\n",
    "\n",
    "\n"
   ]
  },
  {
   "cell_type": "code",
   "execution_count": 11,
   "metadata": {},
   "outputs": [],
   "source": [
    "def cost(a, b, c, x):\n",
    "    \"\"\"\n",
    "    the cost function\n",
    "    Args:\n",
    "        a, b, c: (torch.tensor) the parameters\n",
    "        x: (torch.Parameter) the variable\n",
    "    \"\"\"\n",
    "\n",
    "    return torch.log(a) + torch.log(torch.exp(-b * (x-c)) + torch.exp(b * (x-c)))"
   ]
  },
  {
   "cell_type": "markdown",
   "metadata": {
    "id": "XLqjqgCLAUtx"
   },
   "source": [
    "### Optimizers"
   ]
  },
  {
   "cell_type": "code",
   "execution_count": 12,
   "metadata": {
    "id": "14cOR2atUkg5"
   },
   "outputs": [],
   "source": [
    "def optimize_cost(n_iters, lr, x0, optimizer_name, a_vec, b_vec, c_vec,\n",
    "                  decay=False, normalize=False):\n",
    "    \"\"\"\n",
    "    optimizes the cost function\n",
    "    \"\"\"\n",
    "\n",
    "    loss_values = []\n",
    "    x = torch.tensor(x0, dtype=torch.float, requires_grad=True)\n",
    "    x_values = [x.item()]\n",
    "    optimizer = optim.Adagrad([x], lr=lr)\n",
    "    if optimizer_name == \"Adam\":\n",
    "        optimizer = optim.Adam([x], lr=lr)\n",
    "    elif optimizer_name == \"GD\":\n",
    "        optimizer = optim.SGD([x], lr=lr)\n",
    "    for i in tqdm(range(n_iters)):\n",
    "        if optimizer_name == \"Adam\":\n",
    "            if i >= 1:\n",
    "                optimizer.param_groups[0]['lr']=lr/np.sqrt(i)\n",
    "        if decay:\n",
    "            if i >= 1:\n",
    "                optimizer.param_groups[0]['lr']=lr/np.sqrt(i)\n",
    "        if normalize:\n",
    "            optimizer.param_groups[0]['lr']=lr / (b_vec[i] ** 2)\n",
    "\n",
    "        optimizer.zero_grad()\n",
    "        loss = cost(a_vec[i], b_vec[i], c_vec[i], x)\n",
    "        #print(loss)\n",
    "        loss_values.append(loss.item())\n",
    "        loss.backward()\n",
    "        optimizer.step()\n",
    "        x_values.append(optimizer.param_groups[0]['params'][0].item())\n",
    "\n",
    "    ## the parameters and loss after the final update\n",
    "    #loss = cost(a_vec[i], b_vec[i], c_vec[i], x)\n",
    "    #loss_values.append(loss.item())\n",
    "    #x_values.append(optimizer.param_groups[0]['params'][0].item())\n",
    "\n",
    "    return np.array(loss_values) #, np.array(x_values)\n",
    "\n",
    "def optimize_cost_ht(gamma, n_iters,x0, a_vec, b_vec, c_vec):\n",
    "    \"\"\"\n",
    "    optimizers the cost using higher order tuner\n",
    "    \"\"\"\n",
    "    \n",
    "    loss_values = []\n",
    "    x_values = []\n",
    "    x = torch.tensor(x0, dtype=torch.float, requires_grad=True)\n",
    "    y = torch.tensor(x0, dtype=torch.float)\n",
    "    z = torch.tensor(x0, dtype=torch.float)\n",
    "\n",
    "    beta = 1 / gamma\n",
    "    for i in tqdm(range(n_iters)):\n",
    "        N_t = b_vec[i] ** 2\n",
    "        mu=1\n",
    "        alpha = mu / N_t\n",
    "        eta = gamma / N_t\n",
    "        x = beta * z + (1 - beta) * y\n",
    "        x.requires_grad = True\n",
    "        loss = cost(a_vec[i], b_vec[i], c_vec[i], x)\n",
    "        loss_values.append(loss.item())\n",
    "        loss.backward()\n",
    "        with torch.no_grad():\n",
    "            y = x - alpha * x.grad\n",
    "            z = z - eta * x.grad\n",
    "\n",
    "        x_values.append(x.item())\n",
    "        x.grad = None\n",
    "\n",
    "    #loss = cost(a_vec[i], b_vec[i], c_vec[i], x)\n",
    "    #loss_values.append(loss.item())\n",
    "    #x_values.append(x.item())\n",
    "\n",
    "    return np.array(loss_values)#, np.array(x_values)\n",
    "\n",
    "def optimize_cost_NAGD(n_iters, x0, a_vec, b_vec, c_vec, mu=1, gamma=1,\n",
    "                       normalize=False):\n",
    "    \"\"\"\n",
    "    optimizes the function using Nesterov's Accelerated Gradient Descent\n",
    "    \"\"\"\n",
    "\n",
    "    loss_values = []\n",
    "    x_values = []\n",
    "    x = torch.tensor(x0, dtype=torch.float, requires_grad=True)\n",
    "    y = torch.tensor(x0, dtype=torch.float)\n",
    "    ## this corresponds to tilde z\n",
    "    z = torch.tensor(x0, dtype=torch.float) * 2\n",
    "\n",
    "    for i in tqdm(range(n_iters)):\n",
    "        N_t = 1\n",
    "        gamma = i / 2\n",
    "        if normalize:\n",
    "            N_t = b_vec[i] ** 2\n",
    "            eta = gamma / N_t\n",
    "        else:\n",
    "            # assuming we are provided with TN-rate\n",
    "            eta = gamma * mu\n",
    "        alpha = mu / N_t\n",
    "\n",
    "        beta = 2 / (i + 1)\n",
    "        beta_next = 2 / (i + 2)\n",
    "        x = z + (1 - beta) * y\n",
    "        x.requires_grad = True\n",
    "        loss = cost(a_vec[i], b_vec[i], c_vec[i], x)\n",
    "        loss_values.append(loss.item())\n",
    "        loss.backward()\n",
    "        with torch.no_grad():\n",
    "            y = x - alpha * x.grad.data\n",
    "            z = beta_next / beta * z - beta_next * eta * x.grad.data\n",
    "\n",
    "        x_values.append(x.item())\n",
    "        x.grad = None\n",
    "\n",
    "    return np.array(loss_values)#, np.array(x_values)\n"
   ]
  },
  {
   "cell_type": "markdown",
   "metadata": {
    "id": "QY9N_i_AAjB2"
   },
   "source": [
    "### Generate the data"
   ]
  },
  {
   "cell_type": "code",
   "execution_count": 13,
   "metadata": {
    "id": "RolbK3vJVc0j"
   },
   "outputs": [],
   "source": [
    "N = 100\n",
    "data_a_step, data_b_step, data_c_step = generate_data(N, \"step\", 101, b1=7.0, b2=21.0)\n"
   ]
  },
  {
   "cell_type": "markdown",
   "metadata": {},
   "source": [
    "### Initialize values"
   ]
  },
  {
   "cell_type": "code",
   "execution_count": 17,
   "metadata": {},
   "outputs": [],
   "source": [
    "start = 7"
   ]
  },
  {
   "cell_type": "markdown",
   "metadata": {
    "id": "wfQlrv4QApGh"
   },
   "source": [
    "### Changing b from 7 to 21 halfway"
   ]
  },
  {
   "cell_type": "code",
   "execution_count": 18,
   "metadata": {
    "colab": {
     "base_uri": "https://localhost:8080/"
    },
    "id": "e8anyLNceThE",
    "outputId": "a323df19-9257-47b4-8bf4-b54a7b7cb89b"
   },
   "outputs": [
    {
     "name": "stderr",
     "output_type": "stream",
     "text": [
      "100%|██████████| 100/100 [00:00<00:00, 7659.85it/s]\n",
      "100%|██████████| 100/100 [00:00<00:00, 5799.73it/s]\n",
      "100%|██████████| 100/100 [00:00<00:00, 8798.99it/s]\n",
      "100%|██████████| 100/100 [00:00<00:00, 9666.30it/s]\n",
      "100%|██████████| 100/100 [00:00<00:00, 10900.52it/s]\n"
     ]
    }
   ],
   "source": [
    "adam_step_loss = np.zeros(N)\n",
    "adagrad_step_loss = np.zeros(N)\n",
    "ht_step_loss = np.zeros(N)\n",
    "normalized_gd_step_loss = np.zeros(N)\n",
    "normalized_nagd_step_loss = np.zeros(N)\n",
    "gd_step_loss = np.zeros(N)\n",
    "nagd_step_loss = np.zeros(N)\n",
    "\n",
    "\n",
    "ht_step_loss = optimize_cost_ht(1.5, N, start, data_a_step, data_b_step,data_c_step) \n",
    "normalized_gd_step_loss = optimize_cost(N, 1, start, \"GD\", data_a_step,data_b_step, data_c_step, normalize=True) \n",
    "normalized_nagd_step_loss = optimize_cost_NAGD(N, start, data_a_step, data_b_step, data_c_step, normalize=True) \n",
    "gd_step_loss = optimize_cost(N, 1/49, start, \"GD\", data_a_step,data_b_step, data_c_step, normalize=False) \n",
    "nagd_step_loss = optimize_cost_NAGD(N, start, data_a_step, data_b_step,data_c_step, mu=1/49, normalize=False) "
   ]
  },
  {
   "cell_type": "code",
   "execution_count": 19,
   "metadata": {},
   "outputs": [
    {
     "data": {
      "image/png": "[encoded data removed]",
      "text/plain": [
       "<Figure size 850x250 with 2 Axes>"
      ]
     },
     "metadata": {},
     "output_type": "display_data"
    }
   ],
   "source": [
    "COLOR_DICT = {\"GD\": \"tab:blue\", \"Adam\": \"tab:green\",\n",
    "             \"Adagrad\":\"tab:orange\", \"NAGD\":\"tab:red\",\n",
    "             \"TN-GD\":\"brown\", \"TN-NAGD\":\"tab:pink\",\n",
    "              \"HT\": \"black\"}\n",
    "\n",
    "def draw_axes(axes, data_dict, list_keys, x_label, y_label,\n",
    "             axes_label=None, set_legend=True, linewidth=0.5):\n",
    "\n",
    "    axes.set_xlabel(x_label)\n",
    "    axes.set_ylabel(y_label,labelpad=9)\n",
    "    #print(data_dict)\n",
    "    for key in list_keys:\n",
    "        y_data = data_dict[key]\n",
    "        x_data = np.arange(0, len(y_data))\n",
    "        #print(x_data)\n",
    "        axes.plot(x_data, y_data, linewidth=2, alpha=0.75, color=COLOR_DICT[key],\n",
    "                 label=key)\n",
    "        if axes_label is not None:\n",
    "            #axes.set_title(axes_label, loc=\"left\", fontweight=\"bold\")\n",
    "            axes.text(-0.05, 1.01, axes_label, transform=axes.transAxes, fontsize=12, fontweight='bold')\n",
    "\n",
    "    if set_legend:\n",
    "        axes.legend(prop={'size': 9})\n",
    "\n",
    "def make_figure(data_dict, panel_a_opt, panel_b_opt,\n",
    "               location=\"fig_output\", name=\"figure.pdf\",\n",
    "               x_label=r\"$t$\", y_label=\"\\n$f_t(x_t)$\"):\n",
    "    \"\"\"\n",
    "    makes the figures\n",
    "\n",
    "    Args:\n",
    "        data_dict: (str) optimizer name -> (np.ndarray) results\n",
    "        panel_a_opt:(List[str])\n",
    "        panel_b_opt:(List[str])\n",
    "  \n",
    "    \"\"\"\n",
    "\n",
    "    fig = plt.figure(figsize=(8.5, 2.5), layout='constrained')\n",
    "    #plt.subplots_adjust(left=.2)\n",
    "    axes1 = fig.add_subplot(1, 2, 1)\n",
    "    axes2 = fig.add_subplot(1, 2, 2)\n",
    "\n",
    "\n",
    "    draw_axes(axes1, data_dict, panel_a_opt, x_label, y_label, \"A\")\n",
    "    draw_axes(axes2, data_dict, panel_b_opt, x_label, y_label, \"B\")\n",
    "    \n",
    "    fig.savefig(name, pad_inches=0,bbox_inches='tight')\n",
    "\n",
    "def make_plot(x, y_dict, x_label, y_label, title):\n",
    "\n",
    "    fig = plt.figure(figsize=(8.5, 2.55), layout='constrained')\n",
    "    axes = fig.add_subplot(1, 1, 1)\n",
    "    axes.set_xlabel(x_label)\n",
    "    axes.set_ylabel(y_label)\n",
    "    axes.set_title(title)\n",
    "\n",
    "    for key in y_dict:\n",
    "        axes.plot(x, y_dict[key], label=key)\n",
    "        axes.legend(prop={'size': 7})\n",
    "    \n",
    "\n",
    "    fig.savefig(name, bbox_inches='tight', pad_inches=0)\n",
    "    #plt.close()\n",
    "\n",
    "\n",
    "results_step = {\"TN-NAGD\":normalized_nagd_step_loss, \"TN-GD\": normalized_gd_step_loss,\n",
    "             \"GD\": gd_step_loss, \"HT\": ht_step_loss, \"NAGD\":nagd_step_loss,\n",
    "             \"Adam\": adam_step_loss, \"Adagrad\":adagrad_step_loss}\n",
    "panel_a = [\"HT\", \"GD\", \"NAGD\"]\n",
    "panel_b = [\"HT\", \"TN-GD\", \"TN-NAGD\"]\n",
    "panel_c = [\"HT\", \"Adam\", \"Adagrad\"]\n",
    "make_figure(results_step, panel_a, panel_b, name='figure2.pdf')\n"
   ]
  },
  {
   "cell_type": "code",
   "execution_count": null,
   "metadata": {},
   "outputs": [],
   "source": []
  }
 ],
 "metadata": {
  "colab": {
   "provenance": []
  },
  "kernelspec": {
   "display_name": "opt",
   "language": "python",
   "name": "python3"
  },
  "language_info": {
   "codemirror_mode": {
    "name": "ipython",
    "version": 3
   },
   "file_extension": ".py",
   "mimetype": "text/x-python",
   "name": "python",
   "nbconvert_exporter": "python",
   "pygments_lexer": "ipython3",
   "version": "3.12.4"
  }
 },
 "nbformat": 4,
 "nbformat_minor": 1
}
